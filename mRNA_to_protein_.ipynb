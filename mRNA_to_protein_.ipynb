{
  "nbformat": 4,
  "nbformat_minor": 0,
  "metadata": {
    "colab": {
      "provenance": [],
      "authorship_tag": "ABX9TyOXvJZVDS16CHaCk3EUl1JB",
      "include_colab_link": true
    },
    "kernelspec": {
      "name": "python3",
      "display_name": "Python 3"
    },
    "language_info": {
      "name": "python"
    }
  },
  "cells": [
    {
      "cell_type": "markdown",
      "metadata": {
        "id": "view-in-github",
        "colab_type": "text"
      },
      "source": [
        "<a href=\"https://colab.research.google.com/github/kimiamhr/kimiamhr/blob/main/mRNA_to_protein_.ipynb\" target=\"_parent\"><img src=\"https://colab.research.google.com/assets/colab-badge.svg\" alt=\"Open In Colab\"/></a>"
      ]
    },
    {
      "cell_type": "code",
      "execution_count": 9,
      "metadata": {
        "colab": {
          "base_uri": "https://localhost:8080/"
        },
        "id": "y3wnAIUO56Df",
        "outputId": "cd36393b-f3fa-4071-ba5e-ab82db68a822"
      },
      "outputs": [
        {
          "output_type": "stream",
          "name": "stdout",
          "text": [
            "ID: seq1\n",
            "Name: <unknown name>\n",
            "Description: Example sequence\n",
            "Number of features: 0\n",
            "Seq('ATGCTA')\n"
          ]
        }
      ],
      "source": [
        "from Bio.Seq import Seq\n",
        "with open( 'rosalind_prot (1).txt' , 'r') as seq:\n",
        "    s = seq.read().replace('\\n', '')\n",
        "my_rna = Seq(s)\n",
        "protein = my_rna.translate()\n",
        "print (protein)\n"
      ]
    }
  ]
}