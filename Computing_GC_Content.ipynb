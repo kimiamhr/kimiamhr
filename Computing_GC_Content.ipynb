{
  "nbformat": 4,
  "nbformat_minor": 0,
  "metadata": {
    "colab": {
      "provenance": [],
      "authorship_tag": "ABX9TyNZsDF5gGMVvTDbRaFc8MXL",
      "include_colab_link": true
    },
    "kernelspec": {
      "name": "python3",
      "display_name": "Python 3"
    },
    "language_info": {
      "name": "python"
    }
  },
  "cells": [
    {
      "cell_type": "markdown",
      "metadata": {
        "id": "view-in-github",
        "colab_type": "text"
      },
      "source": [
        "<a href=\"https://colab.research.google.com/github/kimiamhr/kimiamhr/blob/main/Computing_GC_Content.ipynb\" target=\"_parent\"><img src=\"https://colab.research.google.com/assets/colab-badge.svg\" alt=\"Open In Colab\"/></a>"
      ]
    },
    {
      "cell_type": "code",
      "execution_count": 13,
      "metadata": {
        "colab": {
          "base_uri": "https://localhost:8080/",
          "height": 279
        },
        "id": "r9X6jVV6lyf8",
        "outputId": "c435ed1e-91cb-4e03-89f3-3f0484232979"
      },
      "outputs": [
        {
          "output_type": "stream",
          "name": "stdout",
          "text": [
            "Mounted at /content/drive\n"
          ]
        },
        {
          "output_type": "error",
          "ename": "FileNotFoundError",
          "evalue": "ignored",
          "traceback": [
            "\u001b[0;31m---------------------------------------------------------------------------\u001b[0m",
            "\u001b[0;31mFileNotFoundError\u001b[0m                         Traceback (most recent call last)",
            "\u001b[0;32m<ipython-input-13-51a2a54581df>\u001b[0m in \u001b[0;36m<cell line: 3>\u001b[0;34m()\u001b[0m\n\u001b[1;32m      1\u001b[0m \u001b[0;32mfrom\u001b[0m \u001b[0mgoogle\u001b[0m\u001b[0;34m.\u001b[0m\u001b[0mcolab\u001b[0m \u001b[0;32mimport\u001b[0m \u001b[0mdrive\u001b[0m\u001b[0;34m\u001b[0m\u001b[0;34m\u001b[0m\u001b[0m\n\u001b[1;32m      2\u001b[0m \u001b[0mdrive\u001b[0m\u001b[0;34m.\u001b[0m\u001b[0mmount\u001b[0m\u001b[0;34m(\u001b[0m\u001b[0;34m'/content/drive'\u001b[0m\u001b[0;34m)\u001b[0m\u001b[0;34m\u001b[0m\u001b[0;34m\u001b[0m\u001b[0m\n\u001b[0;32m----> 3\u001b[0;31m \u001b[0;32mwith\u001b[0m \u001b[0mopen\u001b[0m\u001b[0;34m(\u001b[0m\u001b[0;34m'C:\\\\Users\\\\LENOVO\\\\Downloads\\\\rosalind_gc.txt'\u001b[0m\u001b[0;34m,\u001b[0m \u001b[0;34m'r'\u001b[0m\u001b[0;34m)\u001b[0m \u001b[0;32mas\u001b[0m \u001b[0mfile\u001b[0m\u001b[0;34m:\u001b[0m\u001b[0;34m\u001b[0m\u001b[0;34m\u001b[0m\u001b[0m\n\u001b[0m\u001b[1;32m      4\u001b[0m   \u001b[0mlines\u001b[0m \u001b[0;34m=\u001b[0m \u001b[0mfile\u001b[0m\u001b[0;34m.\u001b[0m\u001b[0mread\u001b[0m\u001b[0;34m(\u001b[0m\u001b[0;34m)\u001b[0m\u001b[0;34m.\u001b[0m\u001b[0msplit\u001b[0m\u001b[0;34m(\u001b[0m\u001b[0;34m'\\n'\u001b[0m\u001b[0;34m)\u001b[0m\u001b[0;34m\u001b[0m\u001b[0;34m\u001b[0m\u001b[0m\n\u001b[1;32m      5\u001b[0m \u001b[0mprint\u001b[0m\u001b[0;34m(\u001b[0m\u001b[0mlines\u001b[0m\u001b[0;34m)\u001b[0m\u001b[0;34m\u001b[0m\u001b[0;34m\u001b[0m\u001b[0m\n",
            "\u001b[0;31mFileNotFoundError\u001b[0m: [Errno 2] No such file or directory: 'C:\\\\Users\\\\LENOVO\\\\Downloads\\\\rosalind_gc.txt'"
          ]
        }
      ],
      "source": [
        "# Open the file in read mode and split its content by '>'\n",
        "with open('C:\\\\Users\\\\LENOVO\\\\Downloads\\\\rosalind_gc (3).txt', 'r') as file:\n",
        "    lines = file.read().split('>')  # Split the content into a list based on '>'\n",
        "    lines = [seq for seq in lines if seq.strip()]  # Remove empty sequences\n",
        "\n",
        "print(lines)\n",
        "item = (len(lines))  # Get the total number of sequences\n",
        "\n",
        "ratios = []\n",
        "codes = []\n",
        "# Loop through each sequence\n",
        "for x in range(item):\n",
        "    total = -13  # Initialize total count to account for the code\n",
        "    CG = 0  # Initialize count of C and G nucleotides\n",
        "    seq = lines[x]\n",
        "    seq = seq.replace('\\n', '')  # Remove newline characters from the sequence to only count the number of nucleotides\n",
        "\n",
        "    # Iterate through each nucleotide in the sequence\n",
        "    for i in seq:\n",
        "        total = total + 1  # Increment total count\n",
        "        if i in ['C', 'G']:  # Check for C or G nucleotides\n",
        "            CG = CG + 1  # Increment count of C and G nucleotides\n",
        "\n",
        "    code = (seq[0:13])  # Extract the first 13 characters as a code\n",
        "    codes.append(code)  # Append the code to the codes list\n",
        "\n",
        "    ratio = (CG / total) * 100  # Calculate GC content percentage ratio for the sequence\n",
        "    ratios.append(ratio)  # Append the ratio to the ratios list\n",
        "\n",
        "    zipped = list(zip(codes, ratios))  # Combine codes and ratios into pairs\n",
        "\n",
        "print(max(ratios))  # Print the maximum GC content ratio\n",
        "print(zipped)  # Print the pairs of codes and their corresponding ratios"
      ]
    }
  ]
}